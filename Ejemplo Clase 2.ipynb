{
 "cells": [
  {
   "cell_type": "code",
   "execution_count": 1,
   "metadata": {},
   "outputs": [],
   "source": [
    "ln = (\"\n",
    "Algoritmo       Ejecucion  Tiempo\n",
    "'Algoritmo A'      '1'    12060\n",
    "'Algoritmo A'      '2'    14089\n",
    "'Algoritmo A'      '3'    13502\n",
    "'Algoritmo A'      '4'     9574\n",
    "'Algoritmo A'      '5'    14056\n",
    "'Algoritmo A'      '6'    11569\n",
    "'Algoritmo A'      '7'    13047\n",
    "'Algoritmo A'      '8'    13275\n",
    "'Algoritmo A'      '9'    14257\n",
    "'Algoritmo A'      '10'   15075\n",
    "'Algoritmo A'      '11'   12506\n",
    "'Algoritmo A'      '12'   11557\n",
    "'Algoritmo A'      '13'    9548\n",
    "'Algoritmo A'      '14'   11514\n",
    "'Algoritmo A'      '15'   16015\n",
    "'Algoritmo A'      '16'   13004\n",
    "'Algoritmo A'      '17'   10510\n",
    "'Algoritmo A'      '18'   13040\n",
    "'Algoritmo A'      '19'   17098\n",
    "'Algoritmo A'      '20'   13080\n",
    "'Algoritmo B'      '1'    11080\n",
    "'Algoritmo B'      '2'    12089\n",
    "'Algoritmo B'      '3'    12538\n",
    "'Algoritmo B'      '4'    10571\n",
    "'Algoritmo B'      '5'    12010\n",
    "'Algoritmo B'      '6'    12598\n",
    "'Algoritmo B'      '7'    13543\n",
    "'Algoritmo B'      '8'    13547\n",
    "'Algoritmo B'      '9'    13217\n",
    "'Algoritmo B'      '10'   15297\n",
    "'Algoritmo B'      '11'   12210\n",
    "'Algoritmo B'      '12'   11299\n",
    "'Algoritmo B'      '13'   10067\n",
    "'Algoritmo B'      '14'   11279\n",
    "'Algoritmo B'      '15'   14006\n",
    "'Algoritmo B'      '16'   12099\n",
    "'Algoritmo B'      '17'   11581\n",
    "'Algoritmo B'      '18'   14012\n",
    "'Algoritmo B'      '19'   15069\n",
    "'Algoritmo B'      '20'   12000\n",
    "'Algoritmo C'      '1'     9081\n",
    "'Algoritmo C'      '2'    11012\n",
    "'Algoritmo C'      '3'    11529\n",
    "'Algoritmo C'      '4'     9569\n",
    "'Algoritmo C'      '5'    11092\n",
    "'Algoritmo C'      '6'    11524\n",
    "'Algoritmo C'      '7'    12522\n",
    "'Algoritmo C'      '8'    12588\n",
    "'Algoritmo C'      '9'    12241\n",
    "'Algoritmo C'      '10'   13257\n",
    "'Algoritmo C'      '11'   11294\n",
    "'Algoritmo C'      '12'   10226\n",
    "'Algoritmo C'      '13'    9591\n",
    "'Algoritmo C'      '14'    9224\n",
    "'Algoritmo C'      '15'   12033\n",
    "'Algoritmo C'      '16'   11063\n",
    "'Algoritmo C'      '17'    9537\n",
    "'Algoritmo C'      '18'   13014\n",
    "'Algoritmo C'      '19'   14033\n",
    "'Algoritmo C'      '20'   11093\n",
    "\")"
   ]
  },
  {
   "cell_type": "code",
   "execution_count": 36,
   "metadata": {},
   "outputs": [],
   "source": [
    "options(warn=-1)\n",
    "if(!require(psych)){ install.packages(\"psych\")}\n",
    "if(!require(FSA)){ install.packages(\"FSA\")}\n",
    "if(!require(Rmisc)){ install.packages(\"Rmisc\")}\n",
    "if(!require(ggplot2)){ install.packages(\"ggplot2\")} \n",
    "if(!require(car)){ install.packages(\"car\")} \n",
    "if(!require(multcompView)){ install.packages(\"multcompView\")} \n",
    "if(!require(multcompView)){ install.packages(\"multcomp\")} \n",
    "if(!require(lsmeans)){ install.packages(\"lsmeans\")}\n",
    "if(!require(rcompanion)){ install.packages(\"rcompanion\")}\n",
    "if(!require(Rcpp)){ install.packages(\"Rcpp\")}"
   ]
  },
  {
   "cell_type": "markdown",
   "metadata": {},
   "source": [
    "## Cargar los datos y ordenarlos"
   ]
  },
  {
   "cell_type": "code",
   "execution_count": 4,
   "metadata": {},
   "outputs": [],
   "source": [
    "Data = read.table(textConnection(ln), header = TRUE)\n",
    "Data$Algoritmo = factor(Data$Algoritmo, levels=unique(Data$Algoritmo))"
   ]
  },
  {
   "cell_type": "markdown",
   "metadata": {},
   "source": [
    "## Verificar que todo esté en orden y liberar la tabla "
   ]
  },
  {
   "cell_type": "code",
   "execution_count": 5,
   "metadata": {},
   "outputs": [
    {
     "data": {
      "text/html": [
       "<table class=\"dataframe\">\n",
       "<caption>A data.frame: 9 × 3</caption>\n",
       "<thead>\n",
       "\t<tr><th></th><th scope=col>Algoritmo</th><th scope=col>Ejecucion</th><th scope=col>Tiempo</th></tr>\n",
       "\t<tr><th></th><th scope=col>&lt;fct&gt;</th><th scope=col>&lt;chr&gt;</th><th scope=col>&lt;chr&gt;</th></tr>\n",
       "</thead>\n",
       "<tbody>\n",
       "\t<tr><th scope=row>1</th><td>Algoritmo A</td><td>1  </td><td>12060</td></tr>\n",
       "\t<tr><th scope=row>2</th><td>Algoritmo A</td><td>2  </td><td>14089</td></tr>\n",
       "\t<tr><th scope=row>3</th><td>Algoritmo A</td><td>3  </td><td>13502</td></tr>\n",
       "\t<tr><th scope=row>4</th><td>Algoritmo A</td><td>4  </td><td>9574 </td></tr>\n",
       "\t<tr><th scope=row>...</th><td>NA         </td><td>...</td><td>...  </td></tr>\n",
       "\t<tr><th scope=row>57</th><td>Algoritmo C</td><td>17 </td><td>9537 </td></tr>\n",
       "\t<tr><th scope=row>58</th><td>Algoritmo C</td><td>18 </td><td>13014</td></tr>\n",
       "\t<tr><th scope=row>59</th><td>Algoritmo C</td><td>19 </td><td>14033</td></tr>\n",
       "\t<tr><th scope=row>60</th><td>Algoritmo C</td><td>20 </td><td>11093</td></tr>\n",
       "</tbody>\n",
       "</table>\n"
      ],
      "text/latex": [
       "A data.frame: 9 × 3\n",
       "\\begin{tabular}{r|lll}\n",
       "  & Algoritmo & Ejecucion & Tiempo\\\\\n",
       "  & <fct> & <chr> & <chr>\\\\\n",
       "\\hline\n",
       "\t1 & Algoritmo A & 1   & 12060\\\\\n",
       "\t2 & Algoritmo A & 2   & 14089\\\\\n",
       "\t3 & Algoritmo A & 3   & 13502\\\\\n",
       "\t4 & Algoritmo A & 4   & 9574 \\\\\n",
       "\t... & NA          & ... & ...  \\\\\n",
       "\t57 & Algoritmo C & 17  & 9537 \\\\\n",
       "\t58 & Algoritmo C & 18  & 13014\\\\\n",
       "\t59 & Algoritmo C & 19  & 14033\\\\\n",
       "\t60 & Algoritmo C & 20  & 11093\\\\\n",
       "\\end{tabular}\n"
      ],
      "text/markdown": [
       "\n",
       "A data.frame: 9 × 3\n",
       "\n",
       "| <!--/--> | Algoritmo &lt;fct&gt; | Ejecucion &lt;chr&gt; | Tiempo &lt;chr&gt; |\n",
       "|---|---|---|---|\n",
       "| 1 | Algoritmo A | 1   | 12060 |\n",
       "| 2 | Algoritmo A | 2   | 14089 |\n",
       "| 3 | Algoritmo A | 3   | 13502 |\n",
       "| 4 | Algoritmo A | 4   | 9574  |\n",
       "| ... | NA          | ... | ...   |\n",
       "| 57 | Algoritmo C | 17  | 9537  |\n",
       "| 58 | Algoritmo C | 18  | 13014 |\n",
       "| 59 | Algoritmo C | 19  | 14033 |\n",
       "| 60 | Algoritmo C | 20  | 11093 |\n",
       "\n"
      ],
      "text/plain": [
       "    Algoritmo   Ejecucion Tiempo\n",
       "1   Algoritmo A 1         12060 \n",
       "2   Algoritmo A 2         14089 \n",
       "3   Algoritmo A 3         13502 \n",
       "4   Algoritmo A 4         9574  \n",
       "... NA          ...       ...   \n",
       "57  Algoritmo C 17        9537  \n",
       "58  Algoritmo C 18        13014 \n",
       "59  Algoritmo C 19        14033 \n",
       "60  Algoritmo C 20        11093 "
      ]
     },
     "metadata": {},
     "output_type": "display_data"
    },
    {
     "name": "stdout",
     "output_type": "stream",
     "text": [
      "'data.frame':\t60 obs. of  3 variables:\n",
      " $ Algoritmo: Factor w/ 3 levels \"Algoritmo A\",..: 1 1 1 1 1 1 1 1 1 1 ...\n",
      " $ Ejecucion: int  1 2 3 4 5 6 7 8 9 10 ...\n",
      " $ Tiempo   : int  12060 14089 13502 9574 14056 11569 13047 13275 14257 15075 ...\n"
     ]
    },
    {
     "data": {
      "text/plain": [
       "       Algoritmo    Ejecucion         Tiempo     \n",
       " Algoritmo A:20   Min.   : 1.00   Min.   : 9081  \n",
       " Algoritmo B:20   1st Qu.: 5.75   1st Qu.:11093  \n",
       " Algoritmo C:20   Median :10.50   Median :12094  \n",
       "                  Mean   :10.50   Mean   :12234  \n",
       "                  3rd Qu.:15.25   3rd Qu.:13262  \n",
       "                  Max.   :20.00   Max.   :17098  "
      ]
     },
     "metadata": {},
     "output_type": "display_data"
    }
   ],
   "source": [
    "library(psych)\n",
    "headTail(Data)\n",
    "str(Data)\n",
    "summary(Data)\n",
    "rm(ln)"
   ]
  },
  {
   "cell_type": "markdown",
   "metadata": {},
   "source": [
    "## Resumen de datos por grupo"
   ]
  },
  {
   "cell_type": "code",
   "execution_count": 6,
   "metadata": {},
   "outputs": [
    {
     "data": {
      "text/html": [
       "<table class=\"dataframe\">\n",
       "<caption>A data.frame: 3 × 9</caption>\n",
       "<thead>\n",
       "\t<tr><th scope=col>Algoritmo</th><th scope=col>n</th><th scope=col>mean</th><th scope=col>sd</th><th scope=col>min</th><th scope=col>Q1</th><th scope=col>median</th><th scope=col>Q3</th><th scope=col>max</th></tr>\n",
       "\t<tr><th scope=col>&lt;fct&gt;</th><th scope=col>&lt;dbl&gt;</th><th scope=col>&lt;dbl&gt;</th><th scope=col>&lt;dbl&gt;</th><th scope=col>&lt;dbl&gt;</th><th scope=col>&lt;dbl&gt;</th><th scope=col>&lt;dbl&gt;</th><th scope=col>&lt;dbl&gt;</th><th scope=col>&lt;dbl&gt;</th></tr>\n",
       "</thead>\n",
       "<tbody>\n",
       "\t<tr><td>Algoritmo A</td><td>20</td><td>12918.80</td><td>1941.192</td><td> 9548</td><td>11566.00</td><td>13043.5</td><td>14064.25</td><td>17098</td></tr>\n",
       "\t<tr><td>Algoritmo B</td><td>20</td><td>12505.60</td><td>1414.667</td><td>10067</td><td>11510.50</td><td>12154.5</td><td>13544.00</td><td>15297</td></tr>\n",
       "\t<tr><td>Algoritmo C</td><td>20</td><td>11276.15</td><td>1424.242</td><td> 9081</td><td>10067.25</td><td>11193.5</td><td>12311.25</td><td>14033</td></tr>\n",
       "</tbody>\n",
       "</table>\n"
      ],
      "text/latex": [
       "A data.frame: 3 × 9\n",
       "\\begin{tabular}{lllllllll}\n",
       " Algoritmo & n & mean & sd & min & Q1 & median & Q3 & max\\\\\n",
       " <fct> & <dbl> & <dbl> & <dbl> & <dbl> & <dbl> & <dbl> & <dbl> & <dbl>\\\\\n",
       "\\hline\n",
       "\t Algoritmo A & 20 & 12918.80 & 1941.192 &  9548 & 11566.00 & 13043.5 & 14064.25 & 17098\\\\\n",
       "\t Algoritmo B & 20 & 12505.60 & 1414.667 & 10067 & 11510.50 & 12154.5 & 13544.00 & 15297\\\\\n",
       "\t Algoritmo C & 20 & 11276.15 & 1424.242 &  9081 & 10067.25 & 11193.5 & 12311.25 & 14033\\\\\n",
       "\\end{tabular}\n"
      ],
      "text/markdown": [
       "\n",
       "A data.frame: 3 × 9\n",
       "\n",
       "| Algoritmo &lt;fct&gt; | n &lt;dbl&gt; | mean &lt;dbl&gt; | sd &lt;dbl&gt; | min &lt;dbl&gt; | Q1 &lt;dbl&gt; | median &lt;dbl&gt; | Q3 &lt;dbl&gt; | max &lt;dbl&gt; |\n",
       "|---|---|---|---|---|---|---|---|---|\n",
       "| Algoritmo A | 20 | 12918.80 | 1941.192 |  9548 | 11566.00 | 13043.5 | 14064.25 | 17098 |\n",
       "| Algoritmo B | 20 | 12505.60 | 1414.667 | 10067 | 11510.50 | 12154.5 | 13544.00 | 15297 |\n",
       "| Algoritmo C | 20 | 11276.15 | 1424.242 |  9081 | 10067.25 | 11193.5 | 12311.25 | 14033 |\n",
       "\n"
      ],
      "text/plain": [
       "  Algoritmo   n  mean     sd       min   Q1       median  Q3       max  \n",
       "1 Algoritmo A 20 12918.80 1941.192  9548 11566.00 13043.5 14064.25 17098\n",
       "2 Algoritmo B 20 12505.60 1414.667 10067 11510.50 12154.5 13544.00 15297\n",
       "3 Algoritmo C 20 11276.15 1424.242  9081 10067.25 11193.5 12311.25 14033"
      ]
     },
     "metadata": {},
     "output_type": "display_data"
    }
   ],
   "source": [
    "Summarize(Tiempo ~ Algoritmo, data=Data, digits=3)"
   ]
  },
  {
   "cell_type": "markdown",
   "metadata": {},
   "source": [
    "## Gráfico de Cajas"
   ]
  },
  {
   "cell_type": "code",
   "execution_count": 7,
   "metadata": {},
   "outputs": [
    {
     "data": {
      "image/png": "[encoded data removed]",
      "text/plain": [
       "plot without title"
      ]
     },
     "metadata": {
      "image/png": {
       "height": 420,
       "width": 420
      }
     },
     "output_type": "display_data"
    }
   ],
   "source": [
    "M = tapply(Data$Tiempo, INDEX= Data$Algoritmo, FUN = mean)\n",
    "boxplot(Tiempo ~ Algoritmo, data = Data)\n",
    "points(M, col=\"red\", pch=\"+\", cex=2)"
   ]
  },
  {
   "cell_type": "markdown",
   "metadata": {},
   "source": [
    "## Gráfico de Promedios e Intervalos de confianza"
   ]
  },
  {
   "cell_type": "code",
   "execution_count": 8,
   "metadata": {},
   "outputs": [
    {
     "data": {
      "text/html": [
       "<table class=\"dataframe\">\n",
       "<caption>A data.frame: 3 × 6</caption>\n",
       "<thead>\n",
       "\t<tr><th scope=col>Algoritmo</th><th scope=col>n</th><th scope=col>Mean</th><th scope=col>Conf.level</th><th scope=col>Percentile.lower</th><th scope=col>Percentile.upper</th></tr>\n",
       "\t<tr><th scope=col>&lt;fct&gt;</th><th scope=col>&lt;int&gt;</th><th scope=col>&lt;dbl&gt;</th><th scope=col>&lt;dbl&gt;</th><th scope=col>&lt;dbl&gt;</th><th scope=col>&lt;dbl&gt;</th></tr>\n",
       "</thead>\n",
       "<tbody>\n",
       "\t<tr><td>Algoritmo A</td><td>20</td><td>12900</td><td>0.95</td><td>12100</td><td>13800</td></tr>\n",
       "\t<tr><td>Algoritmo B</td><td>20</td><td>12500</td><td>0.95</td><td>11900</td><td>13100</td></tr>\n",
       "\t<tr><td>Algoritmo C</td><td>20</td><td>11300</td><td>0.95</td><td>10700</td><td>11900</td></tr>\n",
       "</tbody>\n",
       "</table>\n"
      ],
      "text/latex": [
       "A data.frame: 3 × 6\n",
       "\\begin{tabular}{llllll}\n",
       " Algoritmo & n & Mean & Conf.level & Percentile.lower & Percentile.upper\\\\\n",
       " <fct> & <int> & <dbl> & <dbl> & <dbl> & <dbl>\\\\\n",
       "\\hline\n",
       "\t Algoritmo A & 20 & 12900 & 0.95 & 12100 & 13800\\\\\n",
       "\t Algoritmo B & 20 & 12500 & 0.95 & 11900 & 13100\\\\\n",
       "\t Algoritmo C & 20 & 11300 & 0.95 & 10700 & 11900\\\\\n",
       "\\end{tabular}\n"
      ],
      "text/markdown": [
       "\n",
       "A data.frame: 3 × 6\n",
       "\n",
       "| Algoritmo &lt;fct&gt; | n &lt;int&gt; | Mean &lt;dbl&gt; | Conf.level &lt;dbl&gt; | Percentile.lower &lt;dbl&gt; | Percentile.upper &lt;dbl&gt; |\n",
       "|---|---|---|---|---|---|\n",
       "| Algoritmo A | 20 | 12900 | 0.95 | 12100 | 13800 |\n",
       "| Algoritmo B | 20 | 12500 | 0.95 | 11900 | 13100 |\n",
       "| Algoritmo C | 20 | 11300 | 0.95 | 10700 | 11900 |\n",
       "\n"
      ],
      "text/plain": [
       "  Algoritmo   n  Mean  Conf.level Percentile.lower Percentile.upper\n",
       "1 Algoritmo A 20 12900 0.95       12100            13800           \n",
       "2 Algoritmo B 20 12500 0.95       11900            13100           \n",
       "3 Algoritmo C 20 11300 0.95       10700            11900           "
      ]
     },
     "metadata": {},
     "output_type": "display_data"
    }
   ],
   "source": [
    "library(Rcpp)\n",
    "Sum = groupwiseMean(Tiempo ~ Algoritmo, \n",
    "                    data = Data, \n",
    "                    conf = 0.95,\n",
    "                    digits = 3,\n",
    "                    traditional = FALSE,\n",
    "                    percentile = TRUE)\n",
    "Sum"
   ]
  },
  {
   "cell_type": "code",
   "execution_count": 19,
   "metadata": {},
   "outputs": [
    {
     "data": {
      "image/png": "[encoded data removed]",
      "text/plain": [
       "plot without title"
      ]
     },
     "metadata": {
      "image/png": {
       "height": 420,
       "width": 420
      }
     },
     "output_type": "display_data"
    }
   ],
   "source": [
    "library(ggplot2)\n",
    "ggplot(Sum, aes(x=Algoritmo, y=Mean)) +\n",
    "geom_errorbar(aes(ymin=Percentile.lower, ymax=Percentile.upper), width = 0.05, size=0.5) + \n",
    "geom_point(shape=15,size=4) +\n",
    "theme_bw() +\n",
    "theme(axis.title = element_text(face=\"bold\")) +\n",
    "ylab(\"Tiempo Promedio, s\")"
   ]
  },
  {
   "cell_type": "markdown",
   "metadata": {},
   "source": [
    "## Definimos el Modelo Lineal"
   ]
  },
  {
   "cell_type": "code",
   "execution_count": 20,
   "metadata": {},
   "outputs": [
    {
     "data": {
      "text/plain": [
       "\n",
       "Call:\n",
       "lm(formula = Tiempo ~ Algoritmo, data = Data)\n",
       "\n",
       "Residuals:\n",
       "    Min      1Q  Median      3Q     Max \n",
       "-3370.8 -1211.6    25.1  1065.4  4179.2 \n",
       "\n",
       "Coefficients:\n",
       "                     Estimate Std. Error t value Pr(>|t|)    \n",
       "(Intercept)           12918.8      360.5  35.835  < 2e-16 ***\n",
       "AlgoritmoAlgoritmo B   -413.2      509.8  -0.810  0.42105    \n",
       "AlgoritmoAlgoritmo C  -1642.6      509.8  -3.222  0.00211 ** \n",
       "---\n",
       "Signif. codes:  0 '***' 0.001 '**' 0.01 '*' 0.05 '.' 0.1 ' ' 1\n",
       "\n",
       "Residual standard error: 1612 on 57 degrees of freedom\n",
       "Multiple R-squared:  0.1647,\tAdjusted R-squared:  0.1353 \n",
       "F-statistic: 5.618 on 2 and 57 DF,  p-value: 0.005932\n"
      ]
     },
     "metadata": {},
     "output_type": "display_data"
    }
   ],
   "source": [
    "model = lm(Tiempo ~ Algoritmo, data = Data)\n",
    "summary(model)"
   ]
  },
  {
   "cell_type": "markdown",
   "metadata": {},
   "source": [
    "## Hacemos el Anova"
   ]
  },
  {
   "cell_type": "code",
   "execution_count": 21,
   "metadata": {},
   "outputs": [
    {
     "data": {
      "text/html": [
       "<table class=\"dataframe\">\n",
       "<caption>A anova: 2 × 4</caption>\n",
       "<thead>\n",
       "\t<tr><th></th><th scope=col>Sum Sq</th><th scope=col>Df</th><th scope=col>F value</th><th scope=col>Pr(&gt;F)</th></tr>\n",
       "\t<tr><th></th><th scope=col>&lt;dbl&gt;</th><th scope=col>&lt;dbl&gt;</th><th scope=col>&lt;dbl&gt;</th><th scope=col>&lt;dbl&gt;</th></tr>\n",
       "</thead>\n",
       "<tbody>\n",
       "\t<tr><th scope=row>Algoritmo</th><td> 29203870</td><td> 2</td><td>5.617588</td><td>0.005931933</td></tr>\n",
       "\t<tr><th scope=row>Residuals</th><td>148161499</td><td>57</td><td>      NA</td><td>         NA</td></tr>\n",
       "</tbody>\n",
       "</table>\n"
      ],
      "text/latex": [
       "A anova: 2 × 4\n",
       "\\begin{tabular}{r|llll}\n",
       "  & Sum Sq & Df & F value & Pr(>F)\\\\\n",
       "  & <dbl> & <dbl> & <dbl> & <dbl>\\\\\n",
       "\\hline\n",
       "\tAlgoritmo &  29203870 &  2 & 5.617588 & 0.005931933\\\\\n",
       "\tResiduals & 148161499 & 57 &       NA &          NA\\\\\n",
       "\\end{tabular}\n"
      ],
      "text/markdown": [
       "\n",
       "A anova: 2 × 4\n",
       "\n",
       "| <!--/--> | Sum Sq &lt;dbl&gt; | Df &lt;dbl&gt; | F value &lt;dbl&gt; | Pr(&gt;F) &lt;dbl&gt; |\n",
       "|---|---|---|---|---|\n",
       "| Algoritmo |  29203870 |  2 | 5.617588 | 0.005931933 |\n",
       "| Residuals | 148161499 | 57 |       NA |          NA |\n",
       "\n"
      ],
      "text/plain": [
       "          Sum Sq    Df F value  Pr(>F)     \n",
       "Algoritmo  29203870  2 5.617588 0.005931933\n",
       "Residuals 148161499 57       NA          NA"
      ]
     },
     "metadata": {},
     "output_type": "display_data"
    }
   ],
   "source": [
    "library(car)\n",
    "Anova(model, \n",
    "     type = \"II\") ##Tipo II es el predeterminado"
   ]
  },
  {
   "cell_type": "markdown",
   "metadata": {},
   "source": [
    "## Histograma de residuos"
   ]
  },
  {
   "cell_type": "code",
   "execution_count": 52,
   "metadata": {},
   "outputs": [
    {
     "data": {
      "image/png": "[encoded data removed]",
      "text/plain": [
       "Plot with title \"\""
      ]
     },
     "metadata": {
      "image/png": {
       "height": 1200,
       "width": 1200
      }
     },
     "output_type": "display_data"
    }
   ],
   "source": [
    "options(repr.plot.width=20, repr.plot.height=20)\n",
    "par(mfrow=c(3,2))\n",
    "x=residuals(model)\n",
    "library(rcompanion)\n",
    "plotNormalHistogram(x)\n",
    "plot(fitted(model), residuals(model))\n",
    "plot(model)\n"
   ]
  },
  {
   "cell_type": "markdown",
   "metadata": {},
   "source": [
    "## Pruebas de separación de promedios"
   ]
  },
  {
   "cell_type": "code",
   "execution_count": 23,
   "metadata": {},
   "outputs": [
    {
     "data": {
      "text/plain": [
       " contrast                  estimate  SE df t.ratio p.value\n",
       " Algoritmo A - Algoritmo B      413 510 57   0.810  0.6981\n",
       " Algoritmo A - Algoritmo C     1643 510 57   3.222  0.0059\n",
       " Algoritmo B - Algoritmo C     1229 510 57   2.411  0.0494\n",
       "\n",
       "P value adjustment: tukey method for comparing a family of 3 estimates "
      ]
     },
     "metadata": {},
     "output_type": "display_data"
    }
   ],
   "source": [
    "library(multcompView)\n",
    "library(lsmeans)\n",
    "marginal = lsmeans(model, ~ Algoritmo)\n",
    "pairs(marginal, adjust=\"tukey\")"
   ]
  },
  {
   "cell_type": "code",
   "execution_count": 47,
   "metadata": {},
   "outputs": [
    {
     "name": "stderr",
     "output_type": "stream",
     "text": [
      "Note: adjust = \"tukey\" was changed to \"sidak\"\n",
      "because \"tukey\" is only appropriate for one set of pairwise comparisons\n",
      "\n"
     ]
    },
    {
     "data": {
      "text/html": [
       "<table class=\"dataframe\">\n",
       "<caption>A summary_emm: 3 × 7</caption>\n",
       "<thead>\n",
       "\t<tr><th></th><th scope=col>Algoritmo</th><th scope=col>lsmean</th><th scope=col>SE</th><th scope=col>df</th><th scope=col>lower.CL</th><th scope=col>upper.CL</th><th scope=col>.group</th></tr>\n",
       "\t<tr><th></th><th scope=col>&lt;fct&gt;</th><th scope=col>&lt;dbl&gt;</th><th scope=col>&lt;dbl&gt;</th><th scope=col>&lt;dbl&gt;</th><th scope=col>&lt;dbl&gt;</th><th scope=col>&lt;dbl&gt;</th><th scope=col>&lt;chr&gt;</th></tr>\n",
       "</thead>\n",
       "<tbody>\n",
       "\t<tr><th scope=row>3</th><td>Algoritmo C</td><td>11276.15</td><td>360.5083</td><td>57</td><td>10389.33</td><td>12162.97</td><td> a </td></tr>\n",
       "\t<tr><th scope=row>2</th><td>Algoritmo B</td><td>12505.60</td><td>360.5083</td><td>57</td><td>11618.78</td><td>13392.42</td><td>  b</td></tr>\n",
       "\t<tr><th scope=row>1</th><td>Algoritmo A</td><td>12918.80</td><td>360.5083</td><td>57</td><td>12031.98</td><td>13805.62</td><td>  b</td></tr>\n",
       "</tbody>\n",
       "</table>\n"
      ],
      "text/latex": [
       "A summary\\_emm: 3 × 7\n",
       "\\begin{tabular}{r|lllllll}\n",
       "  & Algoritmo & lsmean & SE & df & lower.CL & upper.CL & .group\\\\\n",
       "  & <fct> & <dbl> & <dbl> & <dbl> & <dbl> & <dbl> & <chr>\\\\\n",
       "\\hline\n",
       "\t3 & Algoritmo C & 11276.15 & 360.5083 & 57 & 10389.33 & 12162.97 &  a \\\\\n",
       "\t2 & Algoritmo B & 12505.60 & 360.5083 & 57 & 11618.78 & 13392.42 &   b\\\\\n",
       "\t1 & Algoritmo A & 12918.80 & 360.5083 & 57 & 12031.98 & 13805.62 &   b\\\\\n",
       "\\end{tabular}\n"
      ],
      "text/markdown": [
       "\n",
       "A summary_emm: 3 × 7\n",
       "\n",
       "| <!--/--> | Algoritmo &lt;fct&gt; | lsmean &lt;dbl&gt; | SE &lt;dbl&gt; | df &lt;dbl&gt; | lower.CL &lt;dbl&gt; | upper.CL &lt;dbl&gt; | .group &lt;chr&gt; |\n",
       "|---|---|---|---|---|---|---|---|\n",
       "| 3 | Algoritmo C | 11276.15 | 360.5083 | 57 | 10389.33 | 12162.97 |  a  |\n",
       "| 2 | Algoritmo B | 12505.60 | 360.5083 | 57 | 11618.78 | 13392.42 |   b |\n",
       "| 1 | Algoritmo A | 12918.80 | 360.5083 | 57 | 12031.98 | 13805.62 |   b |\n",
       "\n"
      ],
      "text/plain": [
       "  Algoritmo   lsmean   SE       df lower.CL upper.CL .group\n",
       "3 Algoritmo C 11276.15 360.5083 57 10389.33 12162.97  a    \n",
       "2 Algoritmo B 12505.60 360.5083 57 11618.78 13392.42   b   \n",
       "1 Algoritmo A 12918.80 360.5083 57 12031.98 13805.62   b   "
      ]
     },
     "metadata": {},
     "output_type": "display_data"
    }
   ],
   "source": [
    "library(multcomp)\n",
    "\n",
    "CLD = cld(marginal, \n",
    "          alpha = 0.05, \n",
    "          Letters=letters,\n",
    "          adjust = \"tukey\")\n",
    "CLD"
   ]
  },
  {
   "cell_type": "markdown",
   "metadata": {},
   "source": [
    "## Graficando los promedios "
   ]
  },
  {
   "cell_type": "code",
   "execution_count": 53,
   "metadata": {},
   "outputs": [],
   "source": [
    "## Primero se ordenan los promedios\n",
    "CLD$Algoritmo = factor(CLD$Algoritmo,\n",
    "                      levels=c(\"Algoritmo A\",\n",
    "                              \"Algoritmo B\",\n",
    "                              \"Algoritmo C\"))\n",
    "\n",
    "##Luego se remueven los espacios en blanco en CLD\n",
    "CLD$.group=gsub(\" \", \"\",CLD$.group)"
   ]
  },
  {
   "cell_type": "code",
   "execution_count": 48,
   "metadata": {},
   "outputs": [
    {
     "data": {
      "image/png": "[encoded data removed]",
      "text/plain": [
       "plot without title"
      ]
     },
     "metadata": {
      "image/png": {
       "height": 420,
       "width": 420
      }
     },
     "output_type": "display_data"
    }
   ],
   "source": [
    "library(ggplot2)\n",
    "ggplot(CLD, aes(x = Algoritmo, y=lsmean, label = .group))+\n",
    "geom_point(shape=15,size=4)+\n",
    "geom_errorbar(aes(ymin= lower.CL, ymax=upper.CL),width=0.2,size=0.7)+\n",
    "theme_bw()+\n",
    "theme(axis.title = element_text(face = \"bold\"),\n",
    "     axis.text = element_text(face = \"bold\"),\n",
    "     plot.caption = element_text(hjust =0))+\n",
    "ylab(\"Promedio del mínimo cuadrado \\n Tiempo de ejecución\")+\n",
    "geom_text(nudge_x = c(0, 0, 0),\n",
    "         nudge_y = c(1100, 1100, 1100),\n",
    "         color = \"black\")"
   ]
  },
  {
   "cell_type": "code",
   "execution_count": null,
   "metadata": {},
   "outputs": [],
   "source": []
  }
 ],
 "metadata": {
  "kernelspec": {
   "display_name": "R",
   "language": "R",
   "name": "ir"
  },
  "language_info": {
   "codemirror_mode": "r",
   "file_extension": ".r",
   "mimetype": "text/x-r-source",
   "name": "R",
   "pygments_lexer": "r",
   "version": "3.6.1"
  }
 },
 "nbformat": 4,
 "nbformat_minor": 4
}
